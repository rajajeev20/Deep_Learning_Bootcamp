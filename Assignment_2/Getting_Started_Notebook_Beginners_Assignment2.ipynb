{
 "cells": [
  {
   "cell_type": "markdown",
   "metadata": {
    "colab_type": "text",
    "id": "view-in-github"
   },
   "source": [
    "<a href=\"https://colab.research.google.com/github/dphi-official/Deep_Learning_Bootcamp/blob/master/Assignment_2/Getting_Started_Notebook_Beginners_Assignment2.ipynb\" target=\"_parent\"><img src=\"https://colab.research.google.com/assets/colab-badge.svg\" alt=\"Open In Colab\"/></a>"
   ]
  },
  {
   "cell_type": "markdown",
   "metadata": {
    "colab_type": "text",
    "id": "01quEXe2_bkz"
   },
   "source": [
    "**Please follow the below instructions to load the dataset in Notebook.**"
   ]
  },
  {
   "cell_type": "markdown",
   "metadata": {
    "colab_type": "text",
    "id": "SD3WuCgn_rTe"
   },
   "source": [
    "## Download Data From GitHub\n",
    "First we need to get the data. We have given the GitHub link under the '[Data](https://dphi.tech/practice/challenge/34#data)' section of the [problem page](https://dphi.tech/practice/challenge/34) which has all the required train images (to build the model) and test datat images for which one need to predict the labels (animal specie) and submit the predictions on the [DPhi platform](https://dphi.tech/practice/challenge/34#submission). "
   ]
  },
  {
   "cell_type": "markdown",
   "metadata": {
    "colab_type": "text",
    "id": "EedDDfzVA6vW"
   },
   "source": [
    "#### Download GitHub Repository\n",
    "The first step is to download the repository 'Datasets' to the colab files. We can achieve this by executing the below code."
   ]
  },
  {
   "cell_type": "code",
   "execution_count": null,
   "metadata": {
    "colab": {
     "base_uri": "https://localhost:8080/",
     "height": 119
    },
    "colab_type": "code",
    "id": "h2TWoO5-bIyL",
    "outputId": "1d431361-d149-479c-af2f-3218fea24287"
   },
   "outputs": [
    {
     "name": "stdout",
     "output_type": "stream",
     "text": [
      "Cloning into 'Datasets'...\n",
      "remote: Enumerating objects: 9874, done.\u001b[K\n",
      "remote: Total 9874 (delta 0), reused 0 (delta 0), pack-reused 9874\u001b[K\n",
      "Receiving objects: 100% (9874/9874), 427.70 MiB | 35.26 MiB/s, done.\n",
      "Resolving deltas: 100% (102/102), done.\n",
      "Checking out files: 100% (9345/9345), done.\n"
     ]
    }
   ],
   "source": [
    "!git clone 'https://github.com/dphi-official/Datasets/'"
   ]
  },
  {
   "cell_type": "markdown",
   "metadata": {
    "colab_type": "text",
    "id": "c5pIwErRBzRR"
   },
   "source": [
    "Now if you check the colab files, you have everything that was available in the 'Datasets' repository.\n",
    "\n",
    "![image](https://github.com/dphi-official/Deep_Learning_Bootcamp/blob/master/Assignment_2/beg_ass_2_gsc.jpg?raw=true)\n",
    "\n",
    "**Note:** These files will be available in colab files for significant (not sure but 12 to 24 hours maybe) amount of time."
   ]
  },
  {
   "cell_type": "markdown",
   "metadata": {
    "colab_type": "text",
    "id": "6fNZAB84I7-8"
   },
   "source": [
    "The files inside 'animal_data' folder looks like this:\n",
    "\n",
    "![image2](https://github.com/dphi-official/Deep_Learning_Bootcamp/blob/master/Assignment_2/beg_ass_2_gsc_1.jpg?raw=true)"
   ]
  },
  {
   "cell_type": "markdown",
   "metadata": {
    "colab_type": "text",
    "id": "qEbMvCc8JJRR"
   },
   "source": [
    "We need to extract the two zip files 'test_beg.zip' which contains testing images and 'train_beg.zip' contains images for training the model. To extract these zip files execute below code."
   ]
  },
  {
   "cell_type": "code",
   "execution_count": null,
   "metadata": {
    "colab": {},
    "colab_type": "code",
    "id": "riW3f4ifJiAa"
   },
   "outputs": [],
   "source": [
    "# To unzip train_beg.zip\n",
    "!unzip /content/Datasets/animal_data/train_beg.zip \n",
    "\n",
    "# To unzip test_beg.zip\n",
    "!unzip /content/Datasets/animal_data/test_beg.zip"
   ]
  },
  {
   "cell_type": "markdown",
   "metadata": {
    "colab_type": "text",
    "id": "4966VaRoKuzp"
   },
   "source": [
    "After the above cell execution is completed, two folders will appear as shown in the below image\n",
    "\n",
    "![image3](https://github.com/dphi-official/Deep_Learning_Bootcamp/blob/master/Assignment_2/beg_ass_2_gsc_2.jpg?raw=true)"
   ]
  },
  {
   "cell_type": "markdown",
   "metadata": {
    "colab_type": "text",
    "id": "xgxihnh0LCHQ"
   },
   "source": [
    "**Now we are all set to start the working on the dataset!!!**\n"
   ]
  },
  {
   "cell_type": "markdown",
   "metadata": {
    "colab_type": "text",
    "id": "kJnmEJt9EY-2"
   },
   "source": [
    "## Loading Libraries\n",
    "Let's import the required libraries. Not importing all the libraries in one go instead we will be importing whenever we require one."
   ]
  },
  {
   "cell_type": "code",
   "execution_count": null,
   "metadata": {
    "colab": {},
    "colab_type": "code",
    "id": "Xb2W2sgLBim4"
   },
   "outputs": [],
   "source": [
    "# import the basic libraries\n",
    "import pandas as pd\n",
    "import numpy as np"
   ]
  },
  {
   "cell_type": "markdown",
   "metadata": {
    "colab_type": "text",
    "id": "Fv0LmgNbEwR0"
   },
   "source": [
    "## Loading the Data\n",
    "We are given training data in two different files/folders:\n",
    "\n",
    "1. **train_beg** folder contains all the images to be used for training the model. This can be found under the files section of Colab. \n",
    "2. Training_set_animals.csv - contains all the image ids from train_beg folder with their respective labels. This can be found in the \"**files --> Datasets --> animal_data --> Training_set_animals.csv**\""
   ]
  },
  {
   "cell_type": "code",
   "execution_count": null,
   "metadata": {
    "colab": {
     "base_uri": "https://localhost:8080/",
     "height": 204
    },
    "colab_type": "code",
    "id": "wnUBZ_ZOEvOa",
    "outputId": "0ed1ddf0-b4ba-47bb-e06e-6b40555ad1c5"
   },
   "outputs": [
    {
     "data": {
      "text/html": [
       "<div>\n",
       "<style scoped>\n",
       "    .dataframe tbody tr th:only-of-type {\n",
       "        vertical-align: middle;\n",
       "    }\n",
       "\n",
       "    .dataframe tbody tr th {\n",
       "        vertical-align: top;\n",
       "    }\n",
       "\n",
       "    .dataframe thead th {\n",
       "        text-align: right;\n",
       "    }\n",
       "</style>\n",
       "<table border=\"1\" class=\"dataframe\">\n",
       "  <thead>\n",
       "    <tr style=\"text-align: right;\">\n",
       "      <th></th>\n",
       "      <th>filename</th>\n",
       "      <th>animal_type</th>\n",
       "    </tr>\n",
       "  </thead>\n",
       "  <tbody>\n",
       "    <tr>\n",
       "      <th>0</th>\n",
       "      <td>Image_1.jpg</td>\n",
       "      <td>mucca</td>\n",
       "    </tr>\n",
       "    <tr>\n",
       "      <th>1</th>\n",
       "      <td>Image_2.jpg</td>\n",
       "      <td>mucca</td>\n",
       "    </tr>\n",
       "    <tr>\n",
       "      <th>2</th>\n",
       "      <td>Image_3.jpg</td>\n",
       "      <td>mucca</td>\n",
       "    </tr>\n",
       "    <tr>\n",
       "      <th>3</th>\n",
       "      <td>Image_4.jpg</td>\n",
       "      <td>mucca</td>\n",
       "    </tr>\n",
       "    <tr>\n",
       "      <th>4</th>\n",
       "      <td>Image_5.jpg</td>\n",
       "      <td>mucca</td>\n",
       "    </tr>\n",
       "  </tbody>\n",
       "</table>\n",
       "</div>"
      ],
      "text/plain": [
       "      filename animal_type\n",
       "0  Image_1.jpg       mucca\n",
       "1  Image_2.jpg       mucca\n",
       "2  Image_3.jpg       mucca\n",
       "3  Image_4.jpg       mucca\n",
       "4  Image_5.jpg       mucca"
      ]
     },
     "execution_count": 4,
     "metadata": {
      "tags": []
     },
     "output_type": "execute_result"
    }
   ],
   "source": [
    "# Loading training csv file\n",
    "train_labels = pd.read_csv(\"/content/Datasets/animal_data/Training_set_animals.csv\")\n",
    "train_labels.head()    # display first five rows from train_labels dataframe"
   ]
  },
  {
   "cell_type": "markdown",
   "metadata": {
    "colab_type": "text",
    "id": "NuEFR_ReMGq_"
   },
   "source": [
    "We can see above the image id with their corresponding labels"
   ]
  },
  {
   "cell_type": "markdown",
   "metadata": {
    "colab_type": "text",
    "id": "GiMmQ9LQMXuH"
   },
   "source": [
    "Let's get all the training images paths because all we have is the image paths where the image is located. We will also need to get all the image ids (i.e. the image filename) for example, Image_1.jpg"
   ]
  },
  {
   "cell_type": "code",
   "execution_count": null,
   "metadata": {
    "colab": {},
    "colab_type": "code",
    "id": "ZVK_g3iGME7B"
   },
   "outputs": [],
   "source": [
    "image_paths = ['/content/train_beg/' + fname for fname in train_labels['filename']]\n",
    "image_paths    # will get list of list of image id and image path\n",
    "\n",
    "\"\"\"\n",
    "The reason behind using the filename from train_labels is that \n",
    "- it will help you to get all the images whose labels we already have in train_labels.\n",
    "- It will also help to maintain the order of the images. If you notice the images ids in train_labels, they are\n",
    "in some specific order, this will help you load all the images location in the list in the same order.\n",
    "\"\"\""
   ]
  },
  {
   "cell_type": "markdown",
   "metadata": {
    "colab_type": "text",
    "id": "k9GZOmWjNaFO"
   },
   "source": [
    "We have all the labels for the images in 'train_labels' and all the filepaths in 'image_paths'. So let's check if the number of labels we have is same as the number of images. The below code will help you to check this."
   ]
  },
  {
   "cell_type": "code",
   "execution_count": null,
   "metadata": {
    "colab": {
     "base_uri": "https://localhost:8080/",
     "height": 34
    },
    "colab_type": "code",
    "id": "Tl3mPI1xNJ0b",
    "outputId": "faf1c08d-1743-4fc1-9c50-1e1ea4aae013"
   },
   "outputs": [
    {
     "name": "stdout",
     "output_type": "stream",
     "text": [
      "Number of labels i.e.  1200 matches the number of filenames i.e.  1200\n"
     ]
    }
   ],
   "source": [
    "# Confirm if number of filepaths (i.e. images) is same as number of labels given\n",
    "if len(train_labels) == len(image_paths):\n",
    "    print('Number of labels i.e. ', len(train_labels), 'matches the number of filepaths i.e. ', len(image_paths))\n",
    "else:\n",
    "    print('Number of labels does not match the number of filepaths')"
   ]
  },
  {
   "cell_type": "markdown",
   "metadata": {
    "colab_type": "text",
    "id": "84OvgAztNzv3"
   },
   "source": [
    "They are same"
   ]
  },
  {
   "cell_type": "markdown",
   "metadata": {
    "colab_type": "text",
    "id": "lz3SMW3TPKdE"
   },
   "source": [
    "Now let's map all the image paths to their respective ids and labels in dataframe. **This is not mandatory to do, but just helps us to visualize if everything are in the same order or not.**"
   ]
  },
  {
   "cell_type": "code",
   "execution_count": null,
   "metadata": {
    "colab": {
     "base_uri": "https://localhost:8080/",
     "height": 204
    },
    "colab_type": "code",
    "id": "B6_xnkXdNy1r",
    "outputId": "84f18af2-b2a7-457a-edc5-22eca122d548"
   },
   "outputs": [
    {
     "data": {
      "text/html": [
       "<div>\n",
       "<style scoped>\n",
       "    .dataframe tbody tr th:only-of-type {\n",
       "        vertical-align: middle;\n",
       "    }\n",
       "\n",
       "    .dataframe tbody tr th {\n",
       "        vertical-align: top;\n",
       "    }\n",
       "\n",
       "    .dataframe thead th {\n",
       "        text-align: right;\n",
       "    }\n",
       "</style>\n",
       "<table border=\"1\" class=\"dataframe\">\n",
       "  <thead>\n",
       "    <tr style=\"text-align: right;\">\n",
       "      <th></th>\n",
       "      <th>filename</th>\n",
       "      <th>filepath</th>\n",
       "      <th>animal_type</th>\n",
       "    </tr>\n",
       "  </thead>\n",
       "  <tbody>\n",
       "    <tr>\n",
       "      <th>0</th>\n",
       "      <td>Image_1.jpg</td>\n",
       "      <td>/content/train_beg/Image_1.jpg</td>\n",
       "      <td>mucca</td>\n",
       "    </tr>\n",
       "    <tr>\n",
       "      <th>1</th>\n",
       "      <td>Image_2.jpg</td>\n",
       "      <td>/content/train_beg/Image_2.jpg</td>\n",
       "      <td>mucca</td>\n",
       "    </tr>\n",
       "    <tr>\n",
       "      <th>2</th>\n",
       "      <td>Image_3.jpg</td>\n",
       "      <td>/content/train_beg/Image_3.jpg</td>\n",
       "      <td>mucca</td>\n",
       "    </tr>\n",
       "    <tr>\n",
       "      <th>3</th>\n",
       "      <td>Image_4.jpg</td>\n",
       "      <td>/content/train_beg/Image_4.jpg</td>\n",
       "      <td>mucca</td>\n",
       "    </tr>\n",
       "    <tr>\n",
       "      <th>4</th>\n",
       "      <td>Image_5.jpg</td>\n",
       "      <td>/content/train_beg/Image_5.jpg</td>\n",
       "      <td>mucca</td>\n",
       "    </tr>\n",
       "  </tbody>\n",
       "</table>\n",
       "</div>"
      ],
      "text/plain": [
       "      filename                        filepath animal_type\n",
       "0  Image_1.jpg  /content/train_beg/Image_1.jpg       mucca\n",
       "1  Image_2.jpg  /content/train_beg/Image_2.jpg       mucca\n",
       "2  Image_3.jpg  /content/train_beg/Image_3.jpg       mucca\n",
       "3  Image_4.jpg  /content/train_beg/Image_4.jpg       mucca\n",
       "4  Image_5.jpg  /content/train_beg/Image_5.jpg       mucca"
      ]
     },
     "execution_count": 9,
     "metadata": {
      "tags": []
     },
     "output_type": "execute_result"
    }
   ],
   "source": [
    "train_data = pd.DataFrame({'filename': train_labels['filename'], 'filepath': image_paths, 'animal_type': train_labels['animal_type']})\n",
    "train_data.head()"
   ]
  },
  {
   "cell_type": "markdown",
   "metadata": {
    "colab_type": "text",
    "id": "g1Ue369CQFaj"
   },
   "source": [
    "We can notice above that the filename: 'Image_1.jpg' is present in the respective filepath: '/content/train_beg/Image_1.jpg'. This indicates all are in the same order. You can also try and check for other images randomly if filepath and filname are correct or not."
   ]
  },
  {
   "cell_type": "code",
   "execution_count": null,
   "metadata": {
    "colab": {
     "base_uri": "https://localhost:8080/",
     "height": 85
    },
    "colab_type": "code",
    "id": "kiRlFyinQBVq",
    "outputId": "6e7cc4e8-803c-4605-f45d-43939c5e829f"
   },
   "outputs": [
    {
     "name": "stdout",
     "output_type": "stream",
     "text": [
      "filename                          Image_579.jpg\n",
      "filepath       /content/train_beg/Image_579.jpg\n",
      "animal_type                               mucca\n",
      "Name: 578, dtype: object\n"
     ]
    }
   ],
   "source": [
    "print(train_data.iloc[578])"
   ]
  },
  {
   "cell_type": "markdown",
   "metadata": {
    "colab_type": "text",
    "id": "X2oplhfSQ1yb"
   },
   "source": [
    "### Display an Image"
   ]
  },
  {
   "cell_type": "code",
   "execution_count": null,
   "metadata": {
    "colab": {
     "base_uri": "https://localhost:8080/",
     "height": 217
    },
    "colab_type": "code",
    "id": "dLK7Pt1oQnZz",
    "outputId": "6def21eb-c155-4094-f7ca-244d2ff64a10"
   },
   "outputs": [
    {
     "data": {
      "image/jpeg": "[encoded data removed]",
      "text/plain": [
       "<IPython.core.display.Image object>"
      ]
     },
     "execution_count": 11,
     "metadata": {
      "tags": []
     },
     "output_type": "execute_result"
    }
   ],
   "source": [
    "# to display the image"
   ]
  },
  {
   "cell_type": "code",
   "execution_count": null,
   "metadata": {
    "colab": {
     "base_uri": "https://localhost:8080/",
     "height": 34
    },
    "colab_type": "code",
    "id": "grSIz9vTRWfk",
    "outputId": "61ac0e98-2803-49bf-e484-8cc2db8e9c4d"
   },
   "outputs": [
    {
     "name": "stdout",
     "output_type": "stream",
     "text": [
      "mucca\n"
     ]
    }
   ],
   "source": [
    "# anymal_type of above image\n",
    "# write a Python script here that would return you the animal_type of above image"
   ]
  },
  {
   "cell_type": "markdown",
   "metadata": {
    "colab_type": "text",
    "id": "14ZHWitJRtyE"
   },
   "source": [
    "And it's correct"
   ]
  },
  {
   "cell_type": "markdown",
   "metadata": {
    "colab_type": "text",
    "id": "qlEgjCRhR0Qm"
   },
   "source": [
    "Well we are set, but there is a trick, Machine/Deep Learning models doesn't accept images, they accepts only numbers. We need to convert these images to their pixel values so that we can apply ML/DL Models. We can achieve this using cv2 (OpenCV) library. "
   ]
  },
  {
   "cell_type": "markdown",
   "metadata": {
    "colab_type": "text",
    "id": "aXJ14HLZSdpe"
   },
   "source": [
    "## Loading Image's Pixel Values\n",
    "OpenCV's imread method helps in reading an image and getting its pixel values. You just need to provide the path of each image inside imread().\n",
    "\n",
    "Finally, store the image as well as its label inside data."
   ]
  },
  {
   "cell_type": "code",
   "execution_count": null,
   "metadata": {
    "colab": {},
    "colab_type": "code",
    "id": "DC2_gESPS669"
   },
   "outputs": [],
   "source": [
    "# import cv2 library\n",
    "import cv2"
   ]
  },
  {
   "cell_type": "code",
   "execution_count": null,
   "metadata": {
    "colab": {},
    "colab_type": "code",
    "id": "ZfOXHDSgRsKT"
   },
   "outputs": [],
   "source": [
    "data = []    # initialize a list to store, each image's pixel values \n",
    "labels = []   # initialize a list to store each image's labels i.e. animal type\n",
    "for i in range(len(train_data)):\n",
    "  image_arr = cv2.imread(train_data['filepath'][i])     # for each i starting from 0, convert the ith image to array of pixels\n",
    "  data.append(image_arr)\n",
    "  # We also need to convert the categorical values i.e. 'mucca' and 'pecora' to numerical\n",
    "  # Using conditional statement, we can do it here only. if mucca then 0, if pecora then 1\n",
    "  if train_data['animal_type'][i] == 'mucca':           # if respective image's label is mucca\n",
    "    labels.append(0)\n",
    "  else:               # since there are only two type of animals, if the animal is not mucca, it will be pecora\n",
    "    labels.append(1)      # This indexing needs to be remembered 'mucca' = 0 and 'pecora' = 1, this will be required when you convert your predictions on test data to categorical value again\n"
   ]
  },
  {
   "cell_type": "code",
   "execution_count": null,
   "metadata": {
    "colab": {},
    "colab_type": "code",
    "id": "GKADGWf7UvEZ"
   },
   "outputs": [],
   "source": [
    "# data and labels are in normal python list, you must convert it to numpy array. You can do it using a single command!"
   ]
  },
  {
   "cell_type": "markdown",
   "metadata": {
    "colab_type": "text",
    "id": "neLNADnJU-tl"
   },
   "source": [
    "### Display image using pixel values\n",
    "Using imshow from mtaplotlib.pyplot you can display an image using those pixel values"
   ]
  },
  {
   "cell_type": "code",
   "execution_count": null,
   "metadata": {
    "colab": {},
    "colab_type": "code",
    "id": "LNdrkPpXVJAu"
   },
   "outputs": [],
   "source": []
  },
  {
   "cell_type": "code",
   "execution_count": null,
   "metadata": {
    "colab": {
     "base_uri": "https://localhost:8080/",
     "height": 34
    },
    "colab_type": "code",
    "id": "iDtvuzxlVNut",
    "outputId": "9bfe4e82-7c04-4a3c-f88e-4da0564edd52"
   },
   "outputs": [
    {
     "data": {
      "text/plain": [
       "0"
      ]
     },
     "execution_count": 22,
     "metadata": {
      "tags": []
     },
     "output_type": "execute_result"
    }
   ],
   "source": [
    "# respective labels\n",
    "# label of the above image displayed"
   ]
  },
  {
   "cell_type": "markdown",
   "metadata": {
    "colab_type": "text",
    "id": "uN0-d2uaVeCM"
   },
   "source": [
    "0 means mucca, so it's correct"
   ]
  },
  {
   "cell_type": "markdown",
   "metadata": {
    "colab_type": "text",
    "id": "Vv7CDjeTW0Pm"
   },
   "source": [
    "One can flatten images depending on the model one is using"
   ]
  },
  {
   "cell_type": "markdown",
   "metadata": {
    "colab_type": "text",
    "id": "AgcCiao3ciQ3"
   },
   "source": [
    "## Split the Data"
   ]
  },
  {
   "cell_type": "code",
   "execution_count": null,
   "metadata": {
    "colab": {},
    "colab_type": "code",
    "id": "ftcG0gxacKV-"
   },
   "outputs": [],
   "source": [
    "# Can split data using train_test_split"
   ]
  },
  {
   "cell_type": "markdown",
   "metadata": {
    "colab_type": "text",
    "id": "TKuPUvVVVpee"
   },
   "source": [
    "## Building Model\n"
   ]
  },
  {
   "cell_type": "code",
   "execution_count": null,
   "metadata": {
    "colab": {},
    "colab_type": "code",
    "id": "KycYYRpFVcoF"
   },
   "outputs": [],
   "source": []
  },
  {
   "cell_type": "code",
   "execution_count": null,
   "metadata": {
    "colab": {},
    "colab_type": "code",
    "id": "XC-89PXPWnKs"
   },
   "outputs": [],
   "source": []
  },
  {
   "cell_type": "code",
   "execution_count": null,
   "metadata": {
    "colab": {},
    "colab_type": "code",
    "id": "gXlgaWFccFzm"
   },
   "outputs": [],
   "source": []
  },
  {
   "cell_type": "markdown",
   "metadata": {
    "colab_type": "text",
    "id": "G5hxDG16dixs"
   },
   "source": [
    "## Optimize Model"
   ]
  },
  {
   "cell_type": "code",
   "execution_count": null,
   "metadata": {
    "colab": {},
    "colab_type": "code",
    "id": "fEz8zyzadl0b"
   },
   "outputs": [],
   "source": []
  },
  {
   "cell_type": "code",
   "execution_count": null,
   "metadata": {
    "colab": {},
    "colab_type": "code",
    "id": "PUd93mhpdmug"
   },
   "outputs": [],
   "source": []
  },
  {
   "cell_type": "code",
   "execution_count": null,
   "metadata": {
    "colab": {},
    "colab_type": "code",
    "id": "vivxhUK8dmfq"
   },
   "outputs": [],
   "source": []
  },
  {
   "cell_type": "markdown",
   "metadata": {
    "colab_type": "text",
    "id": "dSh2YMO9c80X"
   },
   "source": [
    "# Loading the Test Data\n",
    "We can load the test data similar to what we did with train_data"
   ]
  },
  {
   "cell_type": "code",
   "execution_count": null,
   "metadata": {
    "colab": {
     "base_uri": "https://localhost:8080/",
     "height": 204
    },
    "colab_type": "code",
    "id": "Iseum_zjc53c",
    "outputId": "22f21307-d288-4479-ac29-1b8a0a015c40"
   },
   "outputs": [
    {
     "data": {
      "text/html": [
       "<div>\n",
       "<style scoped>\n",
       "    .dataframe tbody tr th:only-of-type {\n",
       "        vertical-align: middle;\n",
       "    }\n",
       "\n",
       "    .dataframe tbody tr th {\n",
       "        vertical-align: top;\n",
       "    }\n",
       "\n",
       "    .dataframe thead th {\n",
       "        text-align: right;\n",
       "    }\n",
       "</style>\n",
       "<table border=\"1\" class=\"dataframe\">\n",
       "  <thead>\n",
       "    <tr style=\"text-align: right;\">\n",
       "      <th></th>\n",
       "      <th>filename</th>\n",
       "    </tr>\n",
       "  </thead>\n",
       "  <tbody>\n",
       "    <tr>\n",
       "      <th>0</th>\n",
       "      <td>Image_1.jpg</td>\n",
       "    </tr>\n",
       "    <tr>\n",
       "      <th>1</th>\n",
       "      <td>Image_2.jpg</td>\n",
       "    </tr>\n",
       "    <tr>\n",
       "      <th>2</th>\n",
       "      <td>Image_3.jpg</td>\n",
       "    </tr>\n",
       "    <tr>\n",
       "      <th>3</th>\n",
       "      <td>Image_4.jpg</td>\n",
       "    </tr>\n",
       "    <tr>\n",
       "      <th>4</th>\n",
       "      <td>Image_5.jpg</td>\n",
       "    </tr>\n",
       "  </tbody>\n",
       "</table>\n",
       "</div>"
      ],
      "text/plain": [
       "      filename\n",
       "0  Image_1.jpg\n",
       "1  Image_2.jpg\n",
       "2  Image_3.jpg\n",
       "3  Image_4.jpg\n",
       "4  Image_5.jpg"
      ]
     },
     "execution_count": 31,
     "metadata": {
      "tags": []
     },
     "output_type": "execute_result"
    }
   ],
   "source": [
    "# Get the csv file given 'Testing_set_animals.csv'\n",
    "test_image_ids = pd.read_csv(\"/content/Datasets/animal_data/Testing_set_animals.csv\", names = ['filename'])  # there is no header in the csv file so we need to provide it. You can also do header = None\n",
    "test_image_ids.head()"
   ]
  },
  {
   "cell_type": "code",
   "execution_count": null,
   "metadata": {
    "colab": {},
    "colab_type": "code",
    "id": "Bkc8_Ry_dUo8"
   },
   "outputs": [],
   "source": [
    "# Get image paths\n",
    "image_paths = ['/content/test_beg/' + fname for fname in test_image_ids['filename']]\n",
    "image_paths"
   ]
  },
  {
   "cell_type": "code",
   "execution_count": null,
   "metadata": {
    "colab": {},
    "colab_type": "code",
    "id": "4x29cVsdeK3p"
   },
   "outputs": [],
   "source": [
    "# Confirm if number of images is same as number of labels given\n"
   ]
  },
  {
   "cell_type": "code",
   "execution_count": null,
   "metadata": {
    "colab": {},
    "colab_type": "code",
    "id": "YXmLVJ7peu2I"
   },
   "outputs": [],
   "source": [
    "# Create dataframe of image ids and filepaths\n",
    "test_data = pd.DataFrame({'filename': ****, 'filepath': ****})\n",
    "test_data.head()\n",
    "\n",
    "\"\"\"\n",
    "please put the required data at ****\n",
    "\"\"\"\n",
    "# Again this is completely option to see if all the data images are in an order. You can skip this if you want"
   ]
  },
  {
   "cell_type": "code",
   "execution_count": null,
   "metadata": {
    "colab": {},
    "colab_type": "code",
    "id": "iPf2E4dZfOk6"
   },
   "outputs": [],
   "source": [
    "# Load image pixels using cv2\n",
    "image_pixels = []\n",
    "for i in range(****):\n",
    "  img_array = cv2.imread(****)\n",
    "  image_pixels.append(****)\n",
    "\n",
    "\"\"\"\n",
    "Put required data at ****\n",
    "\"\"\""
   ]
  },
  {
   "cell_type": "markdown",
   "metadata": {
    "colab_type": "text",
    "id": "60hvwOP1gM26"
   },
   "source": [
    "**Note:** Perform all the pre-processing steps that you did for train data\n",
    "\n",
    "**Why do we need to do the same procedure of data preprocessing on the new test data as it was done for the training and validation data?**\n",
    "\n",
    "**Ans:** Because our model has been trained on certain format of data and if we don’t provide the testing data in the similar format, the model might throw errors or in few cases it will give erroneous predictions and the rmse of the model will increase. Not confident about these statements? Well, as a data scientist you should always perform some experiment and observe the results. So keep experiment and try it out and see it by yourself!"
   ]
  },
  {
   "cell_type": "code",
   "execution_count": null,
   "metadata": {
    "colab": {},
    "colab_type": "code",
    "id": "ybey2vAVb84u"
   },
   "outputs": [],
   "source": []
  },
  {
   "cell_type": "code",
   "execution_count": null,
   "metadata": {
    "colab": {},
    "colab_type": "code",
    "id": "jSxBA7-Fb8kl"
   },
   "outputs": [],
   "source": []
  },
  {
   "cell_type": "markdown",
   "metadata": {
    "colab_type": "text",
    "id": "WLINT8JQb9Yz"
   },
   "source": [
    "## Prediction"
   ]
  },
  {
   "cell_type": "code",
   "execution_count": null,
   "metadata": {
    "colab": {},
    "colab_type": "code",
    "id": "YtQFzeFogwI_"
   },
   "outputs": [],
   "source": [
    "# prediction"
   ]
  },
  {
   "cell_type": "markdown",
   "metadata": {
    "colab_type": "text",
    "id": "3XK7wLqtg8ow"
   },
   "source": [
    "\n",
    "Note: If you use one output neuron while defining the model and loss as **binary_crossentropy** while compiling the model, you will get single probability value.\n",
    "\n",
    "You can convert it to either integers i.e. 0 or 1 (that is our numerical target value) or directly to categorical 'mucca' (i.e. 0) or 'pecora' (i.e. 1)\n",
    "\n",
    "**If our predictions are single probability value. There are two commonly used methods to get the actual labels in this case.**\n",
    "\n",
    "1.   Using a threshold value\n",
    "2.   Using np.round() function\n",
    "\n",
    "\n",
    "These works for only binary class problems.\n",
    "\n",
    "**But,** if you use more than one neuron in the output layer while defining the model and use sparse_categorical_crossentropy as loss function while compiling the model, you will get multiple probability values.\n",
    "\n",
    "These are the probability values for each class. In this case you can use np.argmax() to get the required label. It will basically return the index of the probability value which is maximum.\n",
    "\n"
   ]
  },
  {
   "cell_type": "markdown",
   "metadata": {
    "colab_type": "text",
    "id": "V3UOBPZOiiCn"
   },
   "source": [
    "**1. Take a threshold of 0.5**\n",
    "\n",
    "If the probability value is less than or equal to 0.5, the prediction is 0 (i.e. mucca) else the prediction is 1 (i.e. pecora)\n",
    "\n",
    "Since the submission format is given as\n",
    "\n",
    "predictions = [‘mucca’, ‘pecora’, ‘pecora’, ‘mucca’, mucca’, ……...]\n",
    "\n",
    "\n",
    "here we will convert the probability values in the same format, i.e. if probability value is less than or equal to 0.5, the prediction will be 'mucca' else the prediction will be 'pecora'"
   ]
  },
  {
   "cell_type": "code",
   "execution_count": null,
   "metadata": {
    "colab": {},
    "colab_type": "code",
    "id": "JANr8gi-hNqQ"
   },
   "outputs": [],
   "source": [
    "prediction = []\n",
    "for value in pred:\n",
    "  if value <= 0.5:\n",
    "    prediction.append(0)      # it can be 0 or your respective class 'mucca'\n",
    "  else:\n",
    "    prediction.append(1)      # it can be 1 or your respective class 'pecora'"
   ]
  },
  {
   "cell_type": "markdown",
   "metadata": {
    "colab_type": "text",
    "id": "3u3exbk8jKtQ"
   },
   "source": [
    "**2. Using np.round() function**\n",
    "\n",
    "In this case np.round() will return the nearest integer value.\n",
    "\n",
    "*  This will return either 0 or 1"
   ]
  },
  {
   "cell_type": "code",
   "execution_count": null,
   "metadata": {
    "colab": {},
    "colab_type": "code",
    "id": "Fakldb0_jaQx"
   },
   "outputs": [],
   "source": [
    "predictions = np.round(pred)"
   ]
  },
  {
   "cell_type": "code",
   "execution_count": null,
   "metadata": {
    "colab": {},
    "colab_type": "code",
    "id": "p4GvLujOj4Ml"
   },
   "outputs": [],
   "source": [
    "prediction = []\n",
    "for item in pred:\n",
    "  prediction.append(item)"
   ]
  },
  {
   "cell_type": "markdown",
   "metadata": {
    "colab_type": "text",
    "id": "CCgiIiG9kG6S"
   },
   "source": [
    "**Note: Follow the submission guidelines given in ‘[How To Submit](https://discuss.dphi.tech/t/how-to-submit-predictions/548)’ Section.**"
   ]
  },
  {
   "cell_type": "markdown",
   "metadata": {
    "colab_type": "text",
    "id": "tI9CATQwkVJd"
   },
   "source": [
    "# **How to save prediciton results locally via jupyter notebook?**\n",
    "If you are working on Jupyter notebook, execute below block of codes. A file named ‘submission.csv’ will be created in your current working directory."
   ]
  },
  {
   "cell_type": "code",
   "execution_count": null,
   "metadata": {
    "colab": {},
    "colab_type": "code",
    "id": "avhrRAeOkOOu"
   },
   "outputs": [],
   "source": [
    "res = pd.DataFrame({'filename': test_data['filename'], 'animal_type': prediction})  # prediction is nothing but the final predictions of your model on input features of your new unseen test data\n",
    "res.to_csv(\"submission.csv\") "
   ]
  },
  {
   "cell_type": "markdown",
   "metadata": {
    "colab_type": "text",
    "id": "I3g3ttCgke7i"
   },
   "source": [
    "# **OR,**\n",
    "**If you are working on Google Colab then use the below set of code to save prediction results locally**"
   ]
  },
  {
   "cell_type": "markdown",
   "metadata": {
    "colab_type": "text",
    "id": "Q-tXRapAkpoe"
   },
   "source": [
    "# **How to save prediction results locally via colab notebook?**\n",
    "If you are working on Google Colab Notebook, execute below block of codes. A file named ‘submission’ will be downloaded in your system."
   ]
  },
  {
   "cell_type": "code",
   "execution_count": null,
   "metadata": {
    "colab": {},
    "colab_type": "code",
    "id": "MGmEaU75kmfq"
   },
   "outputs": [],
   "source": [
    "res = pd.DataFrame({'filename': test_data['filename'], 'animal_type': prediction})  # prediction is nothing but the final predictions of your model on input features of your new unseen test data\n",
    "res.to_csv(\"submission.csv\") \n",
    "\n",
    "# To download the csv file locally\n",
    "from google.colab import files        \n",
    "files.download('submission.csv')"
   ]
  }
 ],
 "metadata": {
  "colab": {
   "include_colab_link": true,
   "name": "Getting_Started_Notebook_Beginners_Assignment2.ipynb",
   "provenance": []
  },
  "kernelspec": {
   "display_name": "Python 3",
   "language": "python",
   "name": "python3"
  },
  "language_info": {
   "codemirror_mode": {
    "name": "ipython",
    "version": 3
   },
   "file_extension": ".py",
   "mimetype": "text/x-python",
   "name": "python",
   "nbconvert_exporter": "python",
   "pygments_lexer": "ipython3",
   "version": "3.7.6"
  }
 },
 "nbformat": 4,
 "nbformat_minor": 1
}
