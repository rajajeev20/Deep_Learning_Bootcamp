{
  "nbformat": 4,
  "nbformat_minor": 0,
  "metadata": {
    "colab": {
      "name": "Reading Zip Data From GitHub - Beginners.ipynb",
      "provenance": [],
      "collapsed_sections": [],
      "include_colab_link": true
    },
    "kernelspec": {
      "name": "python3",
      "display_name": "Python 3"
    }
  },
  "cells": [
    {
      "cell_type": "markdown",
      "metadata": {
        "id": "view-in-github",
        "colab_type": "text"
      },
      "source": [
        "<a href=\"https://colab.research.google.com/github/dphi-official/Deep_Learning_Bootcamp/blob/master/Assignment_2/Reading_Zip_Data_From_GitHub_Beginners.ipynb\" target=\"_parent\"><img src=\"https://colab.research.google.com/assets/colab-badge.svg\" alt=\"Open In Colab\"/></a>"
      ]
    },
    {
      "cell_type": "markdown",
      "metadata": {
        "id": "yBnKM2yShsT_",
        "colab_type": "text"
      },
      "source": [
        "# Accessing the Zip File"
      ]
    },
    {
      "cell_type": "code",
      "metadata": {
        "id": "wW5iUwUfAMaS",
        "colab_type": "code",
        "colab": {}
      },
      "source": [
        "# cloning the Datasets repository\n",
        "!git clone https://github.com/dphi-official/Datasets.git\n",
        "\n",
        "# copying the contents of the animal data folder to Google Drive\n",
        "!cp -r Datasets/animal_data /content/animal_data/"
      ],
      "execution_count": null,
      "outputs": []
    },
    {
      "cell_type": "markdown",
      "metadata": {
        "id": "dmRkcXblhxb2",
        "colab_type": "text"
      },
      "source": [
        "# Unzipping the Zip File"
      ]
    },
    {
      "cell_type": "code",
      "metadata": {
        "id": "8XyLG24jBiii",
        "colab_type": "code",
        "colab": {}
      },
      "source": [
        "# unzipping the contents\n",
        "!unzip animal_data/train_beg.zip"
      ],
      "execution_count": null,
      "outputs": []
    },
    {
      "cell_type": "markdown",
      "metadata": {
        "id": "tEb58_K9h2hZ",
        "colab_type": "text"
      },
      "source": [
        "# Accessing the CSV File"
      ]
    },
    {
      "cell_type": "code",
      "metadata": {
        "id": "FHBwv726ifJX",
        "colab_type": "code",
        "colab": {
          "base_uri": "https://localhost:8080/",
          "height": 204
        },
        "outputId": "e1952064-24a2-48d9-c7cc-bfaabe9411a4"
      },
      "source": [
        "# accessing the given csv file\n",
        "import pandas as pd\n",
        "labels_csv = pd.read_csv('https://raw.githubusercontent.com/dphi-official/Datasets/master/animal_data/Training_set_animals.csv')\n",
        "labels_csv.head()   # this file contains file name and corresponding labels"
      ],
      "execution_count": 3,
      "outputs": [
        {
          "output_type": "execute_result",
          "data": {
            "text/html": [
              "<div>\n",
              "<style scoped>\n",
              "    .dataframe tbody tr th:only-of-type {\n",
              "        vertical-align: middle;\n",
              "    }\n",
              "\n",
              "    .dataframe tbody tr th {\n",
              "        vertical-align: top;\n",
              "    }\n",
              "\n",
              "    .dataframe thead th {\n",
              "        text-align: right;\n",
              "    }\n",
              "</style>\n",
              "<table border=\"1\" class=\"dataframe\">\n",
              "  <thead>\n",
              "    <tr style=\"text-align: right;\">\n",
              "      <th></th>\n",
              "      <th>filename</th>\n",
              "      <th>animal_type</th>\n",
              "    </tr>\n",
              "  </thead>\n",
              "  <tbody>\n",
              "    <tr>\n",
              "      <th>0</th>\n",
              "      <td>Image_1.jpg</td>\n",
              "      <td>mucca</td>\n",
              "    </tr>\n",
              "    <tr>\n",
              "      <th>1</th>\n",
              "      <td>Image_2.jpg</td>\n",
              "      <td>mucca</td>\n",
              "    </tr>\n",
              "    <tr>\n",
              "      <th>2</th>\n",
              "      <td>Image_3.jpg</td>\n",
              "      <td>mucca</td>\n",
              "    </tr>\n",
              "    <tr>\n",
              "      <th>3</th>\n",
              "      <td>Image_4.jpg</td>\n",
              "      <td>mucca</td>\n",
              "    </tr>\n",
              "    <tr>\n",
              "      <th>4</th>\n",
              "      <td>Image_5.jpg</td>\n",
              "      <td>mucca</td>\n",
              "    </tr>\n",
              "  </tbody>\n",
              "</table>\n",
              "</div>"
            ],
            "text/plain": [
              "      filename animal_type\n",
              "0  Image_1.jpg       mucca\n",
              "1  Image_2.jpg       mucca\n",
              "2  Image_3.jpg       mucca\n",
              "3  Image_4.jpg       mucca\n",
              "4  Image_5.jpg       mucca"
            ]
          },
          "metadata": {
            "tags": []
          },
          "execution_count": 3
        }
      ]
    },
    {
      "cell_type": "markdown",
      "metadata": {
        "id": "1_Uws9oEUZgO",
        "colab_type": "text"
      },
      "source": [
        "# Getting the name and path of all image files"
      ]
    },
    {
      "cell_type": "markdown",
      "metadata": {
        "id": "wbkrALWrUEoi",
        "colab_type": "text"
      },
      "source": [
        "## Colab Users"
      ]
    },
    {
      "cell_type": "code",
      "metadata": {
        "id": "y7130la4h1_6",
        "colab_type": "code",
        "colab": {}
      },
      "source": [
        "image_paths = [[fname, '/content/train_beg/' + fname[:-4] + '.jpg'] for fname in labels_csv['filename']]\n",
        "image_paths   "
      ],
      "execution_count": null,
      "outputs": []
    },
    {
      "cell_type": "markdown",
      "metadata": {
        "id": "slbHRWWWUHLF",
        "colab_type": "text"
      },
      "source": [
        "## Jupyter Notebook Users"
      ]
    },
    {
      "cell_type": "code",
      "metadata": {
        "id": "XYOUE5NZTnNf",
        "colab_type": "code",
        "colab": {}
      },
      "source": [
        "folder = r\"\" # Add the path where your folder of images is stored inside the quotes\n",
        "# For eg. folder = r\"C:\\Users\\Gunnika\\Downloads\\train_beg\\train_beg\"\n",
        "\n",
        "image_paths = [[fname, folder + fname[:-4] + '.jpg'] for fname in labels_csv['filename']] \n",
        "image_paths    "
      ],
      "execution_count": null,
      "outputs": []
    },
    {
      "cell_type": "markdown",
      "metadata": {
        "id": "qVl3Gm9ZUdhE",
        "colab_type": "text"
      },
      "source": [
        "# Confirming if no. of labels is equal to no. of images"
      ]
    },
    {
      "cell_type": "code",
      "metadata": {
        "id": "LhpkX7YslX7i",
        "colab_type": "code",
        "colab": {}
      },
      "source": [
        "# Confirm if number of images is same as number of labels given\n",
        "if len(labels_csv) == len(image_paths):\n",
        "    print('Number of labels i.e. ', len(labels_csv), 'matches the number of filenames i.e. ', len(image_paths))\n",
        "else:\n",
        "    print('Number of labels does not match the number of filenames')"
      ],
      "execution_count": null,
      "outputs": []
    },
    {
      "cell_type": "markdown",
      "metadata": {
        "id": "vSNkEMmVgqpw",
        "colab_type": "text"
      },
      "source": [
        "# Creating a DataFrame for image names and image paths"
      ]
    },
    {
      "cell_type": "code",
      "metadata": {
        "id": "Qx0O0OLOlcXt",
        "colab_type": "code",
        "colab": {}
      },
      "source": [
        "images = pd.DataFrame(image_paths)\n",
        "images.columns = ['filename', 'file']\n",
        "images"
      ],
      "execution_count": null,
      "outputs": []
    },
    {
      "cell_type": "markdown",
      "metadata": {
        "id": "x8pH8TmZgv9y",
        "colab_type": "text"
      },
      "source": [
        "# Combining the labels with the images"
      ]
    },
    {
      "cell_type": "code",
      "metadata": {
        "id": "iSnjL3FpQLSo",
        "colab_type": "code",
        "colab": {}
      },
      "source": [
        "train_data = pd.merge(images, labels_csv, how = 'inner', on = 'filename')\n",
        "train_data"
      ],
      "execution_count": null,
      "outputs": []
    },
    {
      "cell_type": "markdown",
      "metadata": {
        "id": "TkQrpIXLg9jN",
        "colab_type": "text"
      },
      "source": [
        "# Loading Images \n",
        "Now, we have a DataFrame with the path of each image along with its label.\n",
        "\n",
        "OpenCV's imread method helps in reading an image and getting its pixel values. You just need to provide the path of each image inside imread().\n",
        "\n",
        "Finally, store the image as well as its label inside data. "
      ]
    },
    {
      "cell_type": "code",
      "metadata": {
        "id": "8AZeJ7RBQW0P",
        "colab_type": "code",
        "colab": {}
      },
      "source": [
        "data = []\n",
        "for i in range(len(train_data)):\n",
        "  # read the file using OpenCV's imread function and store it in a variable 'img_array'\n",
        "  data.append([ ]) #  append the image array and the label of each file into data"
      ],
      "execution_count": null,
      "outputs": []
    },
    {
      "cell_type": "markdown",
      "metadata": {
        "id": "8JTJSzbYiTq9",
        "colab_type": "text"
      },
      "source": [
        "# Displaying Images\n",
        "Similar to how imread helps us read images, OpenCV's imshow helps us display images. \n",
        "\n",
        "You can display any random image with imshow and print its corresponding label."
      ]
    },
    {
      "cell_type": "markdown",
      "metadata": {
        "id": "Hns10JEGQaVU",
        "colab_type": "text"
      },
      "source": [
        "## Load Testing Set CSV file"
      ]
    },
    {
      "cell_type": "code",
      "metadata": {
        "id": "MZW-mQGeQhtK",
        "colab_type": "code",
        "colab": {}
      },
      "source": [
        "test_csv = pd.read_csv('https://raw.githubusercontent.com/dphi-official/Datasets/master/animal_data/Testing_set_animals.csv', names=['filename'])\n",
        "test_csv.head()"
      ],
      "execution_count": null,
      "outputs": []
    },
    {
      "cell_type": "code",
      "metadata": {
        "id": "wlFECWrGRRL2",
        "colab_type": "code",
        "colab": {}
      },
      "source": [
        ""
      ],
      "execution_count": null,
      "outputs": []
    }
  ]
}